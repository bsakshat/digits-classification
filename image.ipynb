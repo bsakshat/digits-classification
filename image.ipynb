{
 "cells": [
  {
   "cell_type": "code",
   "execution_count": 1,
   "metadata": {},
   "outputs": [],
   "source": [
    "import pandas as pd\n",
    "import numpy as np\n",
    "import matplotlib.pyplot as plt"
   ]
  },
  {
   "cell_type": "code",
   "execution_count": 3,
   "metadata": {},
   "outputs": [
    {
     "data": {
      "text/html": [
       "<div>\n",
       "<style scoped>\n",
       "    .dataframe tbody tr th:only-of-type {\n",
       "        vertical-align: middle;\n",
       "    }\n",
       "\n",
       "    .dataframe tbody tr th {\n",
       "        vertical-align: top;\n",
       "    }\n",
       "\n",
       "    .dataframe thead th {\n",
       "        text-align: right;\n",
       "    }\n",
       "</style>\n",
       "<table border=\"1\" class=\"dataframe\">\n",
       "  <thead>\n",
       "    <tr style=\"text-align: right;\">\n",
       "      <th></th>\n",
       "      <th>label</th>\n",
       "      <th>1x1</th>\n",
       "      <th>1x2</th>\n",
       "      <th>1x3</th>\n",
       "      <th>1x4</th>\n",
       "      <th>1x5</th>\n",
       "      <th>1x6</th>\n",
       "      <th>1x7</th>\n",
       "      <th>1x8</th>\n",
       "      <th>1x9</th>\n",
       "      <th>...</th>\n",
       "      <th>28x19</th>\n",
       "      <th>28x20</th>\n",
       "      <th>28x21</th>\n",
       "      <th>28x22</th>\n",
       "      <th>28x23</th>\n",
       "      <th>28x24</th>\n",
       "      <th>28x25</th>\n",
       "      <th>28x26</th>\n",
       "      <th>28x27</th>\n",
       "      <th>28x28</th>\n",
       "    </tr>\n",
       "  </thead>\n",
       "  <tbody>\n",
       "    <tr>\n",
       "      <td>0</td>\n",
       "      <td>0</td>\n",
       "      <td>0</td>\n",
       "      <td>0</td>\n",
       "      <td>0</td>\n",
       "      <td>0</td>\n",
       "      <td>0</td>\n",
       "      <td>0</td>\n",
       "      <td>0</td>\n",
       "      <td>0</td>\n",
       "      <td>0</td>\n",
       "      <td>...</td>\n",
       "      <td>0</td>\n",
       "      <td>0</td>\n",
       "      <td>0</td>\n",
       "      <td>0</td>\n",
       "      <td>0</td>\n",
       "      <td>0</td>\n",
       "      <td>0</td>\n",
       "      <td>0</td>\n",
       "      <td>0</td>\n",
       "      <td>0</td>\n",
       "    </tr>\n",
       "    <tr>\n",
       "      <td>1</td>\n",
       "      <td>0</td>\n",
       "      <td>0</td>\n",
       "      <td>0</td>\n",
       "      <td>0</td>\n",
       "      <td>0</td>\n",
       "      <td>0</td>\n",
       "      <td>0</td>\n",
       "      <td>0</td>\n",
       "      <td>0</td>\n",
       "      <td>0</td>\n",
       "      <td>...</td>\n",
       "      <td>0</td>\n",
       "      <td>0</td>\n",
       "      <td>0</td>\n",
       "      <td>0</td>\n",
       "      <td>0</td>\n",
       "      <td>0</td>\n",
       "      <td>0</td>\n",
       "      <td>0</td>\n",
       "      <td>0</td>\n",
       "      <td>0</td>\n",
       "    </tr>\n",
       "    <tr>\n",
       "      <td>2</td>\n",
       "      <td>0</td>\n",
       "      <td>0</td>\n",
       "      <td>0</td>\n",
       "      <td>0</td>\n",
       "      <td>0</td>\n",
       "      <td>0</td>\n",
       "      <td>0</td>\n",
       "      <td>0</td>\n",
       "      <td>0</td>\n",
       "      <td>0</td>\n",
       "      <td>...</td>\n",
       "      <td>0</td>\n",
       "      <td>0</td>\n",
       "      <td>0</td>\n",
       "      <td>0</td>\n",
       "      <td>0</td>\n",
       "      <td>0</td>\n",
       "      <td>0</td>\n",
       "      <td>0</td>\n",
       "      <td>0</td>\n",
       "      <td>0</td>\n",
       "    </tr>\n",
       "    <tr>\n",
       "      <td>3</td>\n",
       "      <td>0</td>\n",
       "      <td>0</td>\n",
       "      <td>0</td>\n",
       "      <td>0</td>\n",
       "      <td>0</td>\n",
       "      <td>0</td>\n",
       "      <td>0</td>\n",
       "      <td>0</td>\n",
       "      <td>0</td>\n",
       "      <td>0</td>\n",
       "      <td>...</td>\n",
       "      <td>0</td>\n",
       "      <td>0</td>\n",
       "      <td>0</td>\n",
       "      <td>0</td>\n",
       "      <td>0</td>\n",
       "      <td>0</td>\n",
       "      <td>0</td>\n",
       "      <td>0</td>\n",
       "      <td>0</td>\n",
       "      <td>0</td>\n",
       "    </tr>\n",
       "    <tr>\n",
       "      <td>4</td>\n",
       "      <td>0</td>\n",
       "      <td>0</td>\n",
       "      <td>0</td>\n",
       "      <td>0</td>\n",
       "      <td>0</td>\n",
       "      <td>0</td>\n",
       "      <td>0</td>\n",
       "      <td>0</td>\n",
       "      <td>0</td>\n",
       "      <td>0</td>\n",
       "      <td>...</td>\n",
       "      <td>0</td>\n",
       "      <td>0</td>\n",
       "      <td>0</td>\n",
       "      <td>0</td>\n",
       "      <td>0</td>\n",
       "      <td>0</td>\n",
       "      <td>0</td>\n",
       "      <td>0</td>\n",
       "      <td>0</td>\n",
       "      <td>0</td>\n",
       "    </tr>\n",
       "  </tbody>\n",
       "</table>\n",
       "<p>5 rows × 785 columns</p>\n",
       "</div>"
      ],
      "text/plain": [
       "   label  1x1  1x2  1x3  1x4  1x5  1x6  1x7  1x8  1x9  ...  28x19  28x20  \\\n",
       "0      0    0    0    0    0    0    0    0    0    0  ...      0      0   \n",
       "1      0    0    0    0    0    0    0    0    0    0  ...      0      0   \n",
       "2      0    0    0    0    0    0    0    0    0    0  ...      0      0   \n",
       "3      0    0    0    0    0    0    0    0    0    0  ...      0      0   \n",
       "4      0    0    0    0    0    0    0    0    0    0  ...      0      0   \n",
       "\n",
       "   28x21  28x22  28x23  28x24  28x25  28x26  28x27  28x28  \n",
       "0      0      0      0      0      0      0      0      0  \n",
       "1      0      0      0      0      0      0      0      0  \n",
       "2      0      0      0      0      0      0      0      0  \n",
       "3      0      0      0      0      0      0      0      0  \n",
       "4      0      0      0      0      0      0      0      0  \n",
       "\n",
       "[5 rows x 785 columns]"
      ]
     },
     "execution_count": 3,
     "metadata": {},
     "output_type": "execute_result"
    }
   ],
   "source": [
    "mnist_data = pd.read_csv(\"mnist_test.csv\")\n",
    "np.random.seed(0)\n",
    "mnist = pd.DataFrame(columns=mnist_data.columns, dtype='int64')\n",
    "for i in range(10):\n",
    "    samples = mnist_data[mnist_data.label==i].sample(50, replace=False)\n",
    "    mnist = pd.concat([mnist, samples], ignore_index=True)\n",
    "\n",
    "mnist.head()"
   ]
  },
  {
   "cell_type": "code",
   "execution_count": 5,
   "metadata": {},
   "outputs": [
    {
     "data": {
      "text/html": [
       "<div>\n",
       "<style scoped>\n",
       "    .dataframe tbody tr th:only-of-type {\n",
       "        vertical-align: middle;\n",
       "    }\n",
       "\n",
       "    .dataframe tbody tr th {\n",
       "        vertical-align: top;\n",
       "    }\n",
       "\n",
       "    .dataframe thead th {\n",
       "        text-align: right;\n",
       "    }\n",
       "</style>\n",
       "<table border=\"1\" class=\"dataframe\">\n",
       "  <thead>\n",
       "    <tr style=\"text-align: right;\">\n",
       "      <th></th>\n",
       "      <th>1x1</th>\n",
       "      <th>1x2</th>\n",
       "      <th>1x3</th>\n",
       "      <th>1x4</th>\n",
       "      <th>1x5</th>\n",
       "      <th>1x6</th>\n",
       "      <th>1x7</th>\n",
       "      <th>1x8</th>\n",
       "      <th>1x9</th>\n",
       "      <th>1x10</th>\n",
       "      <th>...</th>\n",
       "      <th>28x19</th>\n",
       "      <th>28x20</th>\n",
       "      <th>28x21</th>\n",
       "      <th>28x22</th>\n",
       "      <th>28x23</th>\n",
       "      <th>28x24</th>\n",
       "      <th>28x25</th>\n",
       "      <th>28x26</th>\n",
       "      <th>28x27</th>\n",
       "      <th>28x28</th>\n",
       "    </tr>\n",
       "  </thead>\n",
       "  <tbody>\n",
       "    <tr>\n",
       "      <td>0</td>\n",
       "      <td>0</td>\n",
       "      <td>0</td>\n",
       "      <td>0</td>\n",
       "      <td>0</td>\n",
       "      <td>0</td>\n",
       "      <td>0</td>\n",
       "      <td>0</td>\n",
       "      <td>0</td>\n",
       "      <td>0</td>\n",
       "      <td>0</td>\n",
       "      <td>...</td>\n",
       "      <td>0</td>\n",
       "      <td>0</td>\n",
       "      <td>0</td>\n",
       "      <td>0</td>\n",
       "      <td>0</td>\n",
       "      <td>0</td>\n",
       "      <td>0</td>\n",
       "      <td>0</td>\n",
       "      <td>0</td>\n",
       "      <td>0</td>\n",
       "    </tr>\n",
       "    <tr>\n",
       "      <td>1</td>\n",
       "      <td>0</td>\n",
       "      <td>0</td>\n",
       "      <td>0</td>\n",
       "      <td>0</td>\n",
       "      <td>0</td>\n",
       "      <td>0</td>\n",
       "      <td>0</td>\n",
       "      <td>0</td>\n",
       "      <td>0</td>\n",
       "      <td>0</td>\n",
       "      <td>...</td>\n",
       "      <td>0</td>\n",
       "      <td>0</td>\n",
       "      <td>0</td>\n",
       "      <td>0</td>\n",
       "      <td>0</td>\n",
       "      <td>0</td>\n",
       "      <td>0</td>\n",
       "      <td>0</td>\n",
       "      <td>0</td>\n",
       "      <td>0</td>\n",
       "    </tr>\n",
       "    <tr>\n",
       "      <td>2</td>\n",
       "      <td>0</td>\n",
       "      <td>0</td>\n",
       "      <td>0</td>\n",
       "      <td>0</td>\n",
       "      <td>0</td>\n",
       "      <td>0</td>\n",
       "      <td>0</td>\n",
       "      <td>0</td>\n",
       "      <td>0</td>\n",
       "      <td>0</td>\n",
       "      <td>...</td>\n",
       "      <td>0</td>\n",
       "      <td>0</td>\n",
       "      <td>0</td>\n",
       "      <td>0</td>\n",
       "      <td>0</td>\n",
       "      <td>0</td>\n",
       "      <td>0</td>\n",
       "      <td>0</td>\n",
       "      <td>0</td>\n",
       "      <td>0</td>\n",
       "    </tr>\n",
       "    <tr>\n",
       "      <td>3</td>\n",
       "      <td>0</td>\n",
       "      <td>0</td>\n",
       "      <td>0</td>\n",
       "      <td>0</td>\n",
       "      <td>0</td>\n",
       "      <td>0</td>\n",
       "      <td>0</td>\n",
       "      <td>0</td>\n",
       "      <td>0</td>\n",
       "      <td>0</td>\n",
       "      <td>...</td>\n",
       "      <td>0</td>\n",
       "      <td>0</td>\n",
       "      <td>0</td>\n",
       "      <td>0</td>\n",
       "      <td>0</td>\n",
       "      <td>0</td>\n",
       "      <td>0</td>\n",
       "      <td>0</td>\n",
       "      <td>0</td>\n",
       "      <td>0</td>\n",
       "    </tr>\n",
       "    <tr>\n",
       "      <td>4</td>\n",
       "      <td>0</td>\n",
       "      <td>0</td>\n",
       "      <td>0</td>\n",
       "      <td>0</td>\n",
       "      <td>0</td>\n",
       "      <td>0</td>\n",
       "      <td>0</td>\n",
       "      <td>0</td>\n",
       "      <td>0</td>\n",
       "      <td>0</td>\n",
       "      <td>...</td>\n",
       "      <td>0</td>\n",
       "      <td>0</td>\n",
       "      <td>0</td>\n",
       "      <td>0</td>\n",
       "      <td>0</td>\n",
       "      <td>0</td>\n",
       "      <td>0</td>\n",
       "      <td>0</td>\n",
       "      <td>0</td>\n",
       "      <td>0</td>\n",
       "    </tr>\n",
       "  </tbody>\n",
       "</table>\n",
       "<p>5 rows × 784 columns</p>\n",
       "</div>"
      ],
      "text/plain": [
       "   1x1  1x2  1x3  1x4  1x5  1x6  1x7  1x8  1x9  1x10  ...  28x19  28x20  \\\n",
       "0    0    0    0    0    0    0    0    0    0     0  ...      0      0   \n",
       "1    0    0    0    0    0    0    0    0    0     0  ...      0      0   \n",
       "2    0    0    0    0    0    0    0    0    0     0  ...      0      0   \n",
       "3    0    0    0    0    0    0    0    0    0     0  ...      0      0   \n",
       "4    0    0    0    0    0    0    0    0    0     0  ...      0      0   \n",
       "\n",
       "   28x21  28x22  28x23  28x24  28x25  28x26  28x27  28x28  \n",
       "0      0      0      0      0      0      0      0      0  \n",
       "1      0      0      0      0      0      0      0      0  \n",
       "2      0      0      0      0      0      0      0      0  \n",
       "3      0      0      0      0      0      0      0      0  \n",
       "4      0      0      0      0      0      0      0      0  \n",
       "\n",
       "[5 rows x 784 columns]"
      ]
     },
     "execution_count": 5,
     "metadata": {},
     "output_type": "execute_result"
    }
   ],
   "source": [
    "mnist_fea = mnist.drop('label', axis = 1)\n",
    "mnist_label = mnist['label']\n",
    "mnist_fea.head()"
   ]
  },
  {
   "cell_type": "code",
   "execution_count": 144,
   "metadata": {},
   "outputs": [],
   "source": [
    "average=mnist.groupby('label').mean()"
   ]
  },
  {
   "cell_type": "code",
   "execution_count": 148,
   "metadata": {},
   "outputs": [
    {
     "data": {
      "image/png": "[encoded data removed]",
      "text/plain": [
       "<Figure size 432x288 with 1 Axes>"
      ]
     },
     "metadata": {
      "needs_background": "light"
     },
     "output_type": "display_data"
    },
    {
     "data": {
      "image/png": "[encoded data removed]",
      "text/plain": [
       "<Figure size 432x288 with 1 Axes>"
      ]
     },
     "metadata": {
      "needs_background": "light"
     },
     "output_type": "display_data"
    },
    {
     "data": {
      "image/png": "[encoded data removed]",
      "text/plain": [
       "<Figure size 432x288 with 1 Axes>"
      ]
     },
     "metadata": {
      "needs_background": "light"
     },
     "output_type": "display_data"
    },
    {
     "data": {
      "image/png": "[encoded data removed]",
      "text/plain": [
       "<Figure size 432x288 with 1 Axes>"
      ]
     },
     "metadata": {
      "needs_background": "light"
     },
     "output_type": "display_data"
    },
    {
     "data": {
      "image/png": "[encoded data removed]",
      "text/plain": [
       "<Figure size 432x288 with 1 Axes>"
      ]
     },
     "metadata": {
      "needs_background": "light"
     },
     "output_type": "display_data"
    },
    {
     "data": {
      "image/png": "[encoded data removed]",
      "text/plain": [
       "<Figure size 432x288 with 1 Axes>"
      ]
     },
     "metadata": {
      "needs_background": "light"
     },
     "output_type": "display_data"
    },
    {
     "data": {
      "image/png": "[encoded data removed]",
      "text/plain": [
       "<Figure size 432x288 with 1 Axes>"
      ]
     },
     "metadata": {
      "needs_background": "light"
     },
     "output_type": "display_data"
    },
    {
     "data": {
      "image/png": "[encoded data removed]",
      "text/plain": [
       "<Figure size 432x288 with 1 Axes>"
      ]
     },
     "metadata": {
      "needs_background": "light"
     },
     "output_type": "display_data"
    },
    {
     "data": {
      "image/png": "[encoded data removed]",
      "text/plain": [
       "<Figure size 432x288 with 1 Axes>"
      ]
     },
     "metadata": {
      "needs_background": "light"
     },
     "output_type": "display_data"
    },
    {
     "data": {
      "image/png": "[encoded data removed]",
      "text/plain": [
       "<Figure size 432x288 with 1 Axes>"
      ]
     },
     "metadata": {
      "needs_background": "light"
     },
     "output_type": "display_data"
    }
   ],
   "source": [
    "for i in range(10):\n",
    "    plt.imshow(average.iloc[i].values.reshape((28,28)), cmap='gray')\n",
    "    plt.show()"
   ]
  },
  {
   "cell_type": "code",
   "execution_count": 150,
   "metadata": {},
   "outputs": [],
   "source": [
    "def to_matrix(arr):\n",
    "    mat = arr.reshape(28, 28)\n",
    "    return mat\n",
    "\n",
    "def to_coord(arr, t=0):\n",
    "    dig = np.transpose(np.where(to_matrix(arr) > t))\n",
    "    dig[:, [0, 1]] = dig[:, [1, 0]]\n",
    "    dig[:, 1] = 28 - dig[:, 1]\n",
    "    dig = (dig * 100) / 28\n",
    "    return dig"
   ]
  },
  {
   "cell_type": "code",
   "execution_count": 205,
   "metadata": {},
   "outputs": [
    {
     "data": {
      "text/plain": [
       "(0, 100)"
      ]
     },
     "execution_count": 205,
     "metadata": {},
     "output_type": "execute_result"
    },
    {
     "data": {
      "image/png": "[encoded data removed]",
      "text/plain": [
       "<Figure size 504x504 with 1 Axes>"
      ]
     },
     "metadata": {
      "needs_background": "light"
     },
     "output_type": "display_data"
    }
   ],
   "source": [
    "cor = to_coord(average.iloc[1].values, 100)\n",
    "plt.figure(figsize=(7,7))\n",
    "plt.scatter(cor[:,0],cor[:,1])\n",
    "plt.grid()\n",
    "plt.xticks([0,33,66,100])\n",
    "plt.yticks([0,33,66,100])\n",
    "plt.xlim((0,100))\n",
    "plt.ylim((0,100))\n"
   ]
  },
  {
   "cell_type": "code",
   "execution_count": 243,
   "metadata": {},
   "outputs": [],
   "source": [
    "def zoom(arr, t):\n",
    "    p = to_coord(arr, t)\n",
    "    x_min = p[:, 0].min()\n",
    "    x_max = p[:, 0].max()\n",
    "    y_min = p[:, 1].min()\n",
    "    y_max = p[:, 1].max()\n",
    "    x_mid = (x_min + x_max) / 2\n",
    "    y_mid = (y_min + y_max) / 2\n",
    "    p = p - [x_mid, y_mid]\n",
    "    y_diff = y_max - y_min\n",
    "    x_diff = x_max - x_min\n",
    "    if y_diff > x_diff:\n",
    "        s = y_diff\n",
    "    else:\n",
    "        s = x_diff\n",
    "    p = p * (95 / s)\n",
    "    return p + 50"
   ]
  },
  {
   "cell_type": "code",
   "execution_count": 399,
   "metadata": {},
   "outputs": [
    {
     "data": {
      "image/png": "[encoded data removed]",
      "text/plain": [
       "<Figure size 504x504 with 1 Axes>"
      ]
     },
     "metadata": {
      "needs_background": "light"
     },
     "output_type": "display_data"
    }
   ],
   "source": [
    "cord = zoom(average.iloc[4].values, 75)\n",
    "plt.figure(figsize=(7,7))\n",
    "plt.scatter(cord[:,0],cord[:,1])\n",
    "plt.grid()\n",
    "plt.xticks([0,33,66,100])\n",
    "plt.yticks([0,33,66,100])\n",
    "plt.xlim((0,100))\n",
    "plt.ylim((0,100))\n",
    "plt.show()"
   ]
  },
  {
   "cell_type": "code",
   "execution_count": 384,
   "metadata": {},
   "outputs": [
    {
     "data": {
      "text/plain": [
       "array([[31.52777778, 86.94444444],\n",
       "       [26.25      , 81.66666667],\n",
       "       [31.52777778, 81.66666667],\n",
       "       [20.97222222, 76.38888889],\n",
       "       [26.25      , 76.38888889],\n",
       "       [31.52777778, 76.38888889],\n",
       "       [20.97222222, 71.11111111],\n",
       "       [26.25      , 71.11111111],\n",
       "       [31.52777778, 71.11111111]])"
      ]
     },
     "execution_count": 384,
     "metadata": {},
     "output_type": "execute_result"
    }
   ],
   "source": [
    "p = cord\n",
    "def points_grid(p, g):\n",
    "    r,c = g\n",
    "    grid_00 = p[(p[:, 0] >= 0) & (p[:, 0] < 33) & (p[:, 1] >= 66) & (p[:, 1] < 100)]\n",
    "    grid_01 = p[(p[:, 0] >= 33) & (p[:, 0] < 66) & (p[:, 1] >= 66) & (p[:, 1] < 100)]\n",
    "    grid_02 = p[(p[:, 0] >= 66) & (p[:, 0] < 100) & (p[:, 1] >= 66) & (p[:, 1] < 100)]\n",
    "    grid_10 = p[(p[:, 0] >= 0) & (p[:, 0] < 33) & (p[:, 1] >= 33) & (p[:, 1] < 66)]\n",
    "    grid_11 = p[(p[:, 0] >= 33) & (p[:, 0] < 66) & (p[:, 1] >= 33) & (p[:, 1] < 66)]\n",
    "    grid_12 = p[(p[:, 0] >= 66) & (p[:, 0] < 100) & (p[:, 1] >= 33) & (p[:, 1] < 66)]\n",
    "    grid_20 = p[(p[:, 0] >= 0) & (p[:, 0] < 33) & (p[:, 1] >= 0) & (p[:, 1] < 33)]\n",
    "    grid_21 = p[(p[:, 0] >= 33) & (p[:, 0] < 66) & (p[:, 1] >= 0) & (p[:, 1] < 33)]\n",
    "    grid_22 = p[(p[:, 0] >= 66) & (p[:, 0] < 100) & (p[:, 1] >= 0) & (p[:, 1] < 33)]\n",
    "    grid = [[grid_00,grid_01,grid_02],\n",
    "           [grid_10,grid_11,grid_12],\n",
    "           [grid_20,grid_21,grid_22]]\n",
    "    return(grid[r][c])\n",
    "\n",
    "points_grid(p, (0,0))\n",
    "# plt.plot(g[:,0], g[:,1])"
   ]
  },
  {
   "cell_type": "code",
   "execution_count": 385,
   "metadata": {},
   "outputs": [],
   "source": [
    "q = zoom(average.iloc[1].values, 100)\n",
    "def one_grid(p, c):\n",
    "    grid_0 = p[(p[:, 1] >= 0) & (p[:, 1] < 12.5)]\n",
    "    grid_1 = p[(p[:, 1] >= 12.5) & (p[:, 1] < 25)]\n",
    "    grid_2 = p[(p[:, 1] >= 25) & (p[:, 1] < 37.5)]\n",
    "    grid_3 = p[(p[:, 1] >= 37.5) & (p[:, 1] < 50)]\n",
    "    grid_4 = p[(p[:, 1] >= 50) & (p[:, 1] < 62.5)]\n",
    "    grid_5 = p[(p[:, 1] >= 62.5) & (p[:, 1] < 75)]\n",
    "    grid_6 = p[(p[:, 1] >= 75) & (p[:, 1] < 87.5)]\n",
    "    grid_7 = p[(p[:, 1] >= 87.5) & (p[:, 1] < 100)]\n",
    "    grid = [grid_0, grid_1, grid_2, grid_3, grid_4, grid_5, grid_6, grid_7]\n",
    "    return(grid[c])\n",
    "g = one_grid(q, 7)\n",
    "# plt.plot(g[:,0], g[:,1])"
   ]
  },
  {
   "cell_type": "code",
   "execution_count": 412,
   "metadata": {},
   "outputs": [],
   "source": [
    "g_0 = [(0, 1), (0, 0), (1, 0), (2, 0), (2, 1), (2, 2), (1, 2), (0, 2)]\n",
    "s_0 = [1, 1, 1, 1, 1, 1, 1, 1]\n",
    "g_1 = [0, 1, 2, 3, 4, 5, 6, 7]\n",
    "s_1=[1, 1, 1, 1, 1, 1, 1, 1]\n",
    "g_2 = [(0, 1), (0, 2), (1, 2), (1, 1), (2, 0), (2, 1), (2, 1), (2, 2)]\n",
    "s_2=[1, 1, 1, 1, 1, 1, 1, 1]\n",
    "g_3 = [(0, 1), (0, 2), (1, 1), (1, 1), (1, 2), (2, 2), (2, 1), (2, 0)]\n",
    "s_3=[1, 1, 1, 1, 1, 1, 1, 1]\n",
    "g_4 = [(0, 0), (1, 0), (1, 0), (1, 1), (1, 2), (0, 2), (1, 2), (2, 2)]\n",
    "s_4=[1, 1, 1, 1, 1, 1, 1, 1]\n",
    "g_5 = [(0, 2), (0, 1), (0, 0), (1, 0), (1, 1), (1, 2), (2, 1), (2, 0)]\n",
    "s_5 = [1, 1, 1, 1, 1, 1, 1, 1]\n",
    "g_6 = [(0, 1), (0, 0), (1, 0), (2, 0), (2, 1), (2, 2), (1, 2), (1, 1)]\n",
    "s_6 = [1, 1, 1, 1, 1, 1, 1, 1]\n",
    "g_7 = [(0, 0), (0, 1), (0, 2), (0, 2), (1, 1), (1,1), (2, 1), (2, 1)]\n",
    "s_7=[1, 1, 1, 1, 1, 1, 1, 1]\n",
    "g_8 = [(0, 1), (0, 0), (1, 1), (2, 2), (2, 1), (2, 0), (1, 1), (0, 2)]\n",
    "s_8=[1, 1, 1, 1, 1, 1, 1, 1]\n",
    "g_9 = [(1, 2), (1, 1), (1, 0), (0, 0), (0, 1), (0, 2), (1, 2), (2, 1)]\n",
    "s_9=[1, 1, 1, 1, 1, 1, 1, 1]\n",
    "\n",
    "\n",
    "grid_digit = [g_0, g_1, g_2, g_3, g_4, g_5, g_6, g_7, g_8, g_9]\n",
    "sample_type = [s_0, s_1, s_2, s_3, s_4, s_5, s_6, s_7, s_8, s_9]\n",
    "\n",
    "grid_mid = [[[16.5, 82.5], [50, 82.5], [82.5, 82.5]],\n",
    "            [[16.5, 50], [50, 50], [82.5, 50]],\n",
    "            [[16.5, 16.5], [50, 16.5], [82.5, 16.5]]]\n",
    "# p -> points_grid\n",
    "def sample(p, mean=1):\n",
    "    if len(p)==0:\n",
    "        return None\n",
    "    if mean:\n",
    "        x_m = p[:, 0].mean()\n",
    "        y_m = p[:, 1].mean()\n",
    "        return [x_m, y_m]\n",
    "    else:\n",
    "        ind = np.random.randint(0,len(p), 1)\n",
    "        return p[ind].ravel().tolist()"
   ]
  },
  {
   "cell_type": "code",
   "execution_count": 420,
   "metadata": {},
   "outputs": [],
   "source": [
    "def sample_points(coord, label):\n",
    "    samp = []\n",
    "    if label != 1:\n",
    "        for i in range(8):\n",
    "            k = sample(points_grid(coord, grid_digit[label][i]), sample_type[label][i])\n",
    "            if k is None:\n",
    "                k = grid_mid[grid_digit[label][i][0]][grid_digit[label][i][1]]\n",
    "            samp.append(k)\n",
    "    else:\n",
    "        for i in range(8):\n",
    "            k = sample(one_grid(coord, grid_digit[label][i]), sample_type[label][i])\n",
    "            samp.append(k)\n",
    "    \n",
    "    return np.array(samp, dtype='int64')"
   ]
  },
  {
   "cell_type": "code",
   "execution_count": 435,
   "metadata": {},
   "outputs": [],
   "source": [
    "mnist_to_pen = pd.DataFrame(columns=['x1', 'y1', 'x2', 'y2', 'x3', 'y3', 'x4', 'y4', 'x5', 'y5', 'x6', 'y6', 'x7', 'y7', 'x8', 'y8'])\n",
    "for i in range(len(mnist_fea)):\n",
    "    x = sample_points(zoom(mnist_fea.iloc[i].values, 1), mnist_label.iloc[i])\n",
    "    mnist_to_pen.loc[i] = x.ravel()\n",
    "mnist_to_pen['label'] = mnist_label\n",
    "mnist_to_pen.head()\n",
    "mnist_to_pen.to_csv(r'features_mnist.csv', index=False)"
   ]
  },
  {
   "cell_type": "code",
   "execution_count": null,
   "metadata": {},
   "outputs": [],
   "source": [
    "plt.plot(x[:,0], x[:,1])\n",
    "print(model.predict(x.reshape(1,16)))\n",
    "plt.xlim((0,100))\n",
    "plt.ylim((0,100))\n",
    "plt.show()"
   ]
  },
  {
   "cell_type": "code",
   "execution_count": 415,
   "metadata": {},
   "outputs": [
    {
     "data": {
      "text/plain": [
       "array([1], dtype=int64)"
      ]
     },
     "execution_count": 415,
     "metadata": {},
     "output_type": "execute_result"
    }
   ],
   "source": [
    "from joblib import dump, load\n",
    "model = load('model_tree.joblib')\n",
    "model.predict(x.reshape(1,16))"
   ]
  },
  {
   "cell_type": "code",
   "execution_count": 416,
   "metadata": {},
   "outputs": [],
   "source": []
  },
  {
   "cell_type": "code",
   "execution_count": null,
   "metadata": {},
   "outputs": [],
   "source": []
  },
  {
   "cell_type": "code",
   "execution_count": null,
   "metadata": {},
   "outputs": [],
   "source": []
  },
  {
   "cell_type": "code",
   "execution_count": null,
   "metadata": {},
   "outputs": [],
   "source": []
  }
 ],
 "metadata": {
  "kernelspec": {
   "display_name": "Python 3",
   "language": "python",
   "name": "python3"
  },
  "language_info": {
   "codemirror_mode": {
    "name": "ipython",
    "version": 3
   },
   "file_extension": ".py",
   "mimetype": "text/x-python",
   "name": "python",
   "nbconvert_exporter": "python",
   "pygments_lexer": "ipython3",
   "version": "3.7.3"
  }
 },
 "nbformat": 4,
 "nbformat_minor": 4
}
